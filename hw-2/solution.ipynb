{
 "cells": [
  {
   "cell_type": "code",
   "execution_count": null,
   "metadata": {
    "vscode": {
     "languageId": "plaintext"
    }
   },
   "outputs": [],
   "source": [
    "igcasdhfads"
   ]
  },
  {
   "cell_type": "markdown",
   "metadata": {},
   "source": [
    "# novak\n",
    "Новак Евгений <br>\n",
    "Орлов Григорий <br>\n",
    "Тожимухаммедов Асадбек <br>\n",
    "Вариант: 1\n",
    "\n",
    "----"
   ]
  }
 ],
 "metadata": {
  "language_info": {
   "name": "python"
  }
 },
 "nbformat": 4,
 "nbformat_minor": 2
}
