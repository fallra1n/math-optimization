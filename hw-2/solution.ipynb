{
 "cells": [
  {
   "cell_type": "code",
   "execution_count": null,
   "metadata": {
    "vscode": {
     "languageId": "plaintext"
    }
   },
   "outputs": [],
   "source": [
    "igcasdhfads"
   ]
  },
  {
   "cell_type": "markdown",
   "metadata": {},
   "source": [
    "hg# novak\n",
    "Новак Евгений <br>\n",
    "Орлов Григорий <br>\n",
    "Тожимухаммедов Асадбек <br>fdsa\n",
    "Вариант: 1\n",
    "\n",
    "----\n",
    "fkjalsdjfslk"
   ]
  }
 ],
 "metadata": {
  "language_info": {
   "name": "python"
  }
 },
 "nbformat": 4,
 "nbformat_minor": 2
}
