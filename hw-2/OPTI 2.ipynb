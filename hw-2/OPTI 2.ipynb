{
 "cells": [
  {
   "cell_type": "markdown",
   "id": "d55e1829",
   "metadata": {},
   "source": [
    "# Project1\n",
    "Новак Евгений <br>\n",
    "Орлов Григорий <br>\n",
    "Тожимухаммедов Асадбек <br>\n",
    "Вариант: 1\n",
    "\n",
    "----"
   ]
  },
  {
   "cell_type": "code",
   "execution_count": null,
   "id": "57735611-b5c5-4859-9264-709ac7f415c4",
   "metadata": {},
   "outputs": [
    {
     "name": "stdout",
     "output_type": "stream",
     "text": [
      "Запуск на тестовых функциях для метода золотого сечения:\n",
      "1: -1.061870609387482e-07\n",
      "2: -4.834440546453919e-18\n",
      "3: -1.0\n",
      "4: 1.0000010450276808\n",
      "5: 1.2840257751681103\n",
      "6: 0.8481435660278989\n",
      "Запуск на тестовых функциях для метода парабол:\n",
      "1: 0.0\n",
      "2: 0.0\n",
      "3: -1.0\n",
      "4: 1.0000607840557467\n",
      "5: 1.2840361986454703\n",
      "6: 0.8481441579183262\n"
     ]
    }
   ],
   "source": [
    "import matplotlib.pyplot as plt\n",
    "import numpy as np\n",
    "import time\n",
    "import copy\n",
    "from typing import Callable\n",
    "\n",
    "\n",
    "def golden_section_search(f: Callable[[float], float], a: float, b: float, eps: float):\n",
    "    phi = (1 + np.sqrt(5)) / 2\n",
    "    x1 = a + (b - a) / (phi + 1)\n",
    "    x2 = b - (b - a) / (phi + 1)\n",
    "    f1 = f(x1)\n",
    "    f2 = f(x2)\n",
    "\n",
    "    global iter_num\n",
    "    iter_num = 0\n",
    "    global lst_x\n",
    "    global lst_y\n",
    "    lst_x = []\n",
    "    lst_y = []\n",
    "    lst_x.append(0)\n",
    "    lst_y.append((a+b)/2)\n",
    "\n",
    "    while abs(b - a) > eps:\n",
    "        iter_num += 1\n",
    "        if f1 < f2:\n",
    "            b = x2\n",
    "            x2, f2 = x1, f1\n",
    "            x1 = a + (b - a) / (phi + 1)\n",
    "            f1 = f(x1)\n",
    "        else:\n",
    "            a = x1\n",
    "            x1, f1 = x2, f2\n",
    "            x2 = b - (b - a) / (phi + 1)\n",
    "            f2 = f(x2)\n",
    "        \n",
    "        lst_x.append(iter_num)\n",
    "        lst_y.append((a+b)/2)\n",
    "    return ((a + b) / 2, copy.deepcopy(lst_x), copy.deepcopy(lst_y))\n",
    "\n",
    "\n",
    "accuracy = 5 * 10**(-6)\n",
    "functions = [lambda x: x ** 2, lambda x: x ** 10, lambda x: x * np.exp(x),\n",
    "             lambda x: -x * np.exp(-x), lambda x: x ** 4 /np.log(x),\n",
    "             lambda x: x ** 3 - x * np.log(x) - 2 * np.sin(x)]\n",
    "names = ['x^2', 'x^10', 'x e^X', '-x e^(-x)', 'x^4/lnx', 'x^3 - x lnx - 2sinx']\n",
    "intervals = [[-1, 10], [-1, 1], [-2, 0], [-2, 6], [1.1, 1.5], [0.1, 2]]\n",
    "\n",
    "\n"
   ]
  },
  {
   "cell_type": "markdown",
   "id": "7410e445",
   "metadata": {},
   "source": [
    "1) Построим графики времени работы от точности."
   ]
  },
  {
   "cell_type": "code",
   "execution_count": 5,
   "metadata": {},
   "outputs": [],
   "source": [
    "import matplotlib.pyplot as plt\n",
    "import numpy as np\n",
    "import time\n",
    "import copy\n",
    "from typing import Callable\n",
    "\n",
    "# Griborii\n",
    "\n",
    "n = 10\n",
    "L = 100\n",
    "mu = 0.1\n",
    "\n",
    "def func1(x: np.array) -> np.array:\n",
    "    sm = sum([(x[i] - x[i - 1])**2 for i in range(1, len(x))])\n",
    "\n",
    "    return ((L - mu) / 8) * (x[0]**2 + sm - 2 * sm[0]) + (np.linalg.norm(x)**2) * mu / 2\n",
    "\n",
    "functions = [func1]\n",
    "\n"
   ]
  },
  {
   "cell_type": "code",
   "execution_count": null,
   "metadata": {},
   "outputs": [],
   "source": [
    "# Eugine \n",
    "def the_fastest_descent(f: Callable[[np.array], float], x: float, d: float, Lambda: float):\n",
    "\n"
   ]
  },
  {
   "cell_type": "code",
   "execution_count": null,
   "metadata": {},
   "outputs": [],
   "source": [
    "# Griborii\n",
    "\n",
    "def gessian(x: np.array): # Не готово\n",
    "    return x\n",
    "\n",
    "def levenberg_markvatd(f: Callable[[np.array], float], x_0, a_0, prec):\n",
    "    print('hello')\n",
    "    i_decide = True\n",
    "    x_old = x_0\n",
    "    x_new = x_0\n",
    "    a = a_0\n",
    "    while i_decide:\n",
    "        x_old = x_new\n",
    "        i_want_2 = True\n",
    "        while x_new >= x_old:\n",
    "            x_new = x_old + a * np.linalg.inv(gessian(x_old))\n",
    "\n"
   ]
  },
  {
   "cell_type": "code",
   "execution_count": null,
   "metadata": {},
   "outputs": [],
   "source": []
  }
 ],
 "metadata": {
  "kernelspec": {
   "display_name": "Python 3",
   "language": "python",
   "name": "python3"
  },
  "language_info": {
   "codemirror_mode": {
    "name": "ipython",
    "version": 3
   },
   "file_extension": ".py",
   "mimetype": "text/x-python",
   "name": "python",
   "nbconvert_exporter": "python",
   "pygments_lexer": "ipython3",
   "version": "3.10.12"
  }
 },
 "nbformat": 4,
 "nbformat_minor": 5
}
