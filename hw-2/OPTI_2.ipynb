{
 "cells": [
  {
   "cell_type": "markdown",
   "id": "d55e1829",
   "metadata": {},
   "source": [
    "# Project2\n",
    "Новак Евгений <br>\n",
    "Орлов Григорий <br>\n",
    "Тожимухаммедов Асадбек <br>\n",
    "Вариант: 1\n",
    "\n",
    "----"
   ]
  },
  {
   "cell_type": "markdown",
   "id": "74608881",
   "metadata": {},
   "source": [
    "## Условие: <br>\n",
    "* **Реализовать метод наискорейшего спуска (золотое сечение), метод Левенберга-Марквартда**<br>\n",
    "\n",
    "* **Тестовые функции**\n",
    "\n",
    "1. Расчет минимума сильно-выпуклой функции:\n",
    "\t\t$$\n",
    "\t\tf(x) = \\frac{L - \\mu}{8} \\left[ x_1^2 + \\sum_{i=2}^n (x_i - x_{i+1})^2 - 2x_1 \\right] + \\frac{\\mu}{2} \\| x \\|_2^2\n",
    "\t\t$$\n",
    "\t\tПолагаем $ L = 100, \\mu = 0.1 $.\n",
    "\n",
    "2. Расчет двойственной задачи к задаче расчета матрицы корреспонденций:\n",
    "\t\t$$\n",
    "\t\tf(x, y) = -(L, x) - (W, y) + \\ln \\left[ \\sum_{i,j} \\exp(-\\alpha c_{ij} + x_i + y_j) \\right]\n",
    "\t\t$$  \n",
    "\t\tЗдесь: $ x \\in R^n, \\, y \\in R^n, \\, L, W \\in R_{+}^n, \\, \\| L \\|_1 = 1, \\, \\| W \\|_1 = 1, \\, \\alpha \\geq 1, \\, c_{ij} \\in [0, 1] $. Параметры $ L, W, c $ задаются случайно, $ \\alpha = 100 $.\n",
    "\n",
    "3. Функция Розенброка ($ x \\in R^n, \\, x^* \\equiv 1_n, \\, f^* = 0 $):  \n",
    "\t\t$$\n",
    "\t\tf(x) = (x_1 - 1)^2 + \\alpha \\sum_{i=2}^n (x_i - x_{i-1}^2)^2.\n",
    "\t\t$$  \n",
    "\t\tПараметр $ \\alpha $ можно варьировать. Для тестов возьмем его 10.\n",
    "\n",
    "4. Задача энтропийно-линейного программирования без ограничений:\n",
    "\t\t$$\n",
    "\t\tf(x) = \\sum_{i=1}^n x_i \\ln \\frac{x_i}{\\xi_i}, \\, x \\in R_{+}^n; \\, (n = 10, \\ldots 1000); \\, \\xi_i = 1/i\n",
    "\t\t$$\n",
    "\n",
    "5. Линейная регрессия:\n",
    "\t\t$$\n",
    "\t\tf(x) = \\sum_{i=1}^m ((a^i, x) - b_i)^2\n",
    "\t\t$$  \n",
    "\t\tПараметр $ m = 100, \\, $ значения $ a^i \\in R^n, \\, b_i $ выбираются случайно.\n",
    "\n",
    "6. Функция правдоподобия:\n",
    "\t\t$$\n",
    "\t\tf(x,y) = -\\sum_{i=1}^{k}(x^T a^i + y) + \\sum_{i=1}^{m}\\ln(1 + \\exp(x^T a^i + y))\n",
    "\t\t$$\n",
    "\n",
    "* **Комментарии**\n",
    "\n",
    "1. Начальная точка выбирается случайно на достаточно большом удалении от оптимальной точки. Расстояние фиксируется одним и тем же для разных размерностей задачи.  \n",
    "2. Точность решения варьируется от $10^{-4}$ до $10^{-5}$ с шагом $10^{-5}$.  \n",
    "3. Точность одномерного поиска варьируется от $10^{-7}$ до $10^{-8}$ с шагом $10^{-8}$.  \n",
    "4. Размерность задачи варьируется: 10, 20, 30, 40, 50, 60, 60, 70, 80, 90, 100, 200, 400, 600, 800, 1000.  \n",
    "\n",
    "* **Графики**\n",
    "\n",
    "1. Для фиксированных выбранных значений точности одномерного поиска и точности решения задачи по функции построить график зависимости времени решения от размерности задачи.  \n",
    "2. Для фиксированных выбранных значений размерности задачи и точности одномерного поиска построить график зависимости времени решения задачи от требуемой точности решения задачи по функции.  \n",
    "3. Для фиксированных выбранных значений размерности и точности решения задачи по функции построить график зависимости времени решения от точности одномерного поиска.  \n",
    "4. Для фиксированных выбранных значений точности одномерного поиска, размерности задачи и точности решения задачи по функции построить график зависимости времени решения от расстояния между начальной точкой и оптимальной точкой.  "
   ]
  },
  {
   "cell_type": "code",
   "execution_count": 10,
   "id": "b3651ba7",
   "metadata": {},
   "outputs": [],
   "source": [
    "import matplotlib.pyplot as plt\n",
    "import autograd.numpy as np\n",
    "from autograd import grad\n",
    "from autograd import jacobian\n",
    "import time\n",
    "import copy\n",
    "from typing import Callable\n",
    "\n",
    "# Griborii\n",
    "\n",
    "n = 10\n",
    "L = 100\n",
    "mu = 0.1\n",
    "\n",
    "def func1(x: np.array) -> float:\n",
    "    sm = sum([(x[i] - x[i - 1])**2 for i in range(1, len(x))])\n",
    "\n",
    "    return ((L - mu) / 8) * (x[0]**2 + sm - 2 * sm[0]) + (np.linalg.norm(x)**2) * mu / 2\n",
    "\n",
    "functions = [func1]\n",
    "\n"
   ]
  },
  {
   "cell_type": "code",
   "execution_count": null,
   "id": "e56a6658",
   "metadata": {},
   "outputs": [],
   "source": [
    "# Eugine \n",
    "def the_fastest_descent(f: Callable[[np.array], float], x: float, d: float, Lambda: float):\n",
    "\n"
   ]
  },
  {
   "cell_type": "code",
   "execution_count": 22,
   "id": "60bdea42",
   "metadata": {},
   "outputs": [
    {
     "name": "stdout",
     "output_type": "stream",
     "text": [
      "13\n"
     ]
    },
    {
     "ename": "TypeError",
     "evalue": "Can't differentiate w.r.t. type <class 'int'>",
     "output_type": "error",
     "traceback": [
      "\u001b[0;31m---------------------------------------------------------------------------\u001b[0m",
      "\u001b[0;31mKeyError\u001b[0m                                  Traceback (most recent call last)",
      "File \u001b[0;32m~/.local/lib/python3.10/site-packages/autograd/tracer.py:118\u001b[0m, in \u001b[0;36mnew_box\u001b[0;34m(value, trace, node)\u001b[0m\n\u001b[1;32m    117\u001b[0m \u001b[38;5;28;01mtry\u001b[39;00m:\n\u001b[0;32m--> 118\u001b[0m     \u001b[38;5;28;01mreturn\u001b[39;00m \u001b[43mbox_type_mappings\u001b[49m\u001b[43m[\u001b[49m\u001b[38;5;28;43mtype\u001b[39;49m\u001b[43m(\u001b[49m\u001b[43mvalue\u001b[49m\u001b[43m)\u001b[49m\u001b[43m]\u001b[49m(value, trace, node)\n\u001b[1;32m    119\u001b[0m \u001b[38;5;28;01mexcept\u001b[39;00m \u001b[38;5;167;01mKeyError\u001b[39;00m:\n",
      "\u001b[0;31mKeyError\u001b[0m: <class 'int'>",
      "\nDuring handling of the above exception, another exception occurred:\n",
      "\u001b[0;31mTypeError\u001b[0m                                 Traceback (most recent call last)",
      "Cell \u001b[0;32mIn[22], line 8\u001b[0m\n\u001b[1;32m      4\u001b[0m     \u001b[38;5;28mprint\u001b[39m(grad(grad(func))(\u001b[38;5;241m3\u001b[39m))\n\u001b[1;32m      5\u001b[0m     \u001b[38;5;28;01mreturn\u001b[39;00m \u001b[38;5;241m0\u001b[39m\n\u001b[0;32m----> 8\u001b[0m \u001b[38;5;28mprint\u001b[39m(\u001b[43mhessian\u001b[49m\u001b[43m(\u001b[49m\u001b[38;5;28;43;01mlambda\u001b[39;49;00m\u001b[43m \u001b[49m\u001b[43mx\u001b[49m\u001b[43m:\u001b[49m\u001b[43m \u001b[49m\u001b[38;5;28;43msum\u001b[39;49m\u001b[43m(\u001b[49m\u001b[43m[\u001b[49m\u001b[43mx\u001b[49m\u001b[43m[\u001b[49m\u001b[43mi\u001b[49m\u001b[43m]\u001b[49m\u001b[38;5;241;43m*\u001b[39;49m\u001b[38;5;241;43m*\u001b[39;49m\u001b[38;5;241;43m2\u001b[39;49m\u001b[43m \u001b[49m\u001b[38;5;28;43;01mfor\u001b[39;49;00m\u001b[43m \u001b[49m\u001b[43mi\u001b[49m\u001b[43m \u001b[49m\u001b[38;5;129;43;01min\u001b[39;49;00m\u001b[43m \u001b[49m\u001b[38;5;28;43mrange\u001b[39;49m\u001b[43m(\u001b[49m\u001b[38;5;28;43mlen\u001b[39;49m\u001b[43m(\u001b[49m\u001b[43mx\u001b[49m\u001b[43m)\u001b[49m\u001b[43m)\u001b[49m\u001b[43m]\u001b[49m\u001b[43m)\u001b[49m\u001b[43m)\u001b[49m(np\u001b[38;5;241m.\u001b[39marray([\u001b[38;5;241m2\u001b[39m, \u001b[38;5;241m2\u001b[39m])))\n\u001b[1;32m     10\u001b[0m \u001b[38;5;28;01mdef\u001b[39;00m\u001b[38;5;250m \u001b[39m\u001b[38;5;21mlevenberg_markvatd\u001b[39m(f: Callable[[np\u001b[38;5;241m.\u001b[39marray], \u001b[38;5;28mfloat\u001b[39m], x_0, a_0, prec):\n\u001b[1;32m     11\u001b[0m     \u001b[38;5;28mprint\u001b[39m(\u001b[38;5;124m'\u001b[39m\u001b[38;5;124mhello\u001b[39m\u001b[38;5;124m'\u001b[39m)\n",
      "Cell \u001b[0;32mIn[22], line 4\u001b[0m, in \u001b[0;36mhessian\u001b[0;34m(func)\u001b[0m\n\u001b[1;32m      2\u001b[0m \u001b[38;5;28;01mdef\u001b[39;00m\u001b[38;5;250m \u001b[39m\u001b[38;5;21mhessian\u001b[39m(func):\n\u001b[1;32m      3\u001b[0m     \u001b[38;5;28mprint\u001b[39m(func(np\u001b[38;5;241m.\u001b[39marray([\u001b[38;5;241m2\u001b[39m, \u001b[38;5;241m3\u001b[39m] )))\n\u001b[0;32m----> 4\u001b[0m     \u001b[38;5;28mprint\u001b[39m(\u001b[43mgrad\u001b[49m\u001b[43m(\u001b[49m\u001b[43mgrad\u001b[49m\u001b[43m(\u001b[49m\u001b[43mfunc\u001b[49m\u001b[43m)\u001b[49m\u001b[43m)\u001b[49m\u001b[43m(\u001b[49m\u001b[38;5;241;43m3\u001b[39;49m\u001b[43m)\u001b[49m)\n\u001b[1;32m      5\u001b[0m     \u001b[38;5;28;01mreturn\u001b[39;00m \u001b[38;5;241m0\u001b[39m\n",
      "File \u001b[0;32m~/.local/lib/python3.10/site-packages/autograd/wrap_util.py:20\u001b[0m, in \u001b[0;36munary_to_nary.<locals>.nary_operator.<locals>.nary_f\u001b[0;34m(*args, **kwargs)\u001b[0m\n\u001b[1;32m     18\u001b[0m \u001b[38;5;28;01melse\u001b[39;00m:\n\u001b[1;32m     19\u001b[0m     x \u001b[38;5;241m=\u001b[39m \u001b[38;5;28mtuple\u001b[39m(args[i] \u001b[38;5;28;01mfor\u001b[39;00m i \u001b[38;5;129;01min\u001b[39;00m argnum)\n\u001b[0;32m---> 20\u001b[0m \u001b[38;5;28;01mreturn\u001b[39;00m \u001b[43munary_operator\u001b[49m\u001b[43m(\u001b[49m\u001b[43munary_f\u001b[49m\u001b[43m,\u001b[49m\u001b[43m \u001b[49m\u001b[43mx\u001b[49m\u001b[43m,\u001b[49m\u001b[43m \u001b[49m\u001b[38;5;241;43m*\u001b[39;49m\u001b[43mnary_op_args\u001b[49m\u001b[43m,\u001b[49m\u001b[43m \u001b[49m\u001b[38;5;241;43m*\u001b[39;49m\u001b[38;5;241;43m*\u001b[39;49m\u001b[43mnary_op_kwargs\u001b[49m\u001b[43m)\u001b[49m\n",
      "File \u001b[0;32m~/.local/lib/python3.10/site-packages/autograd/differential_operators.py:28\u001b[0m, in \u001b[0;36mgrad\u001b[0;34m(fun, x)\u001b[0m\n\u001b[1;32m     21\u001b[0m \u001b[38;5;129m@unary_to_nary\u001b[39m\n\u001b[1;32m     22\u001b[0m \u001b[38;5;28;01mdef\u001b[39;00m\u001b[38;5;250m \u001b[39m\u001b[38;5;21mgrad\u001b[39m(fun, x):\n\u001b[1;32m     23\u001b[0m \u001b[38;5;250m    \u001b[39m\u001b[38;5;124;03m\"\"\"\u001b[39;00m\n\u001b[1;32m     24\u001b[0m \u001b[38;5;124;03m    Returns a function which computes the gradient of `fun` with respect to\u001b[39;00m\n\u001b[1;32m     25\u001b[0m \u001b[38;5;124;03m    positional argument number `argnum`. The returned function takes the same\u001b[39;00m\n\u001b[1;32m     26\u001b[0m \u001b[38;5;124;03m    arguments as `fun`, but returns the gradient instead. The function `fun`\u001b[39;00m\n\u001b[1;32m     27\u001b[0m \u001b[38;5;124;03m    should be scalar-valued. The gradient has the same type as the argument.\"\"\"\u001b[39;00m\n\u001b[0;32m---> 28\u001b[0m     vjp, ans \u001b[38;5;241m=\u001b[39m \u001b[43m_make_vjp\u001b[49m\u001b[43m(\u001b[49m\u001b[43mfun\u001b[49m\u001b[43m,\u001b[49m\u001b[43m \u001b[49m\u001b[43mx\u001b[49m\u001b[43m)\u001b[49m\n\u001b[1;32m     29\u001b[0m     \u001b[38;5;28;01mif\u001b[39;00m \u001b[38;5;129;01mnot\u001b[39;00m vspace(ans)\u001b[38;5;241m.\u001b[39msize \u001b[38;5;241m==\u001b[39m \u001b[38;5;241m1\u001b[39m:\n\u001b[1;32m     30\u001b[0m         \u001b[38;5;28;01mraise\u001b[39;00m \u001b[38;5;167;01mTypeError\u001b[39;00m(\u001b[38;5;124m\"\u001b[39m\u001b[38;5;124mGrad only applies to real scalar-output functions. \u001b[39m\u001b[38;5;124m\"\u001b[39m\n\u001b[1;32m     31\u001b[0m                         \u001b[38;5;124m\"\u001b[39m\u001b[38;5;124mTry jacobian, elementwise_grad or holomorphic_grad.\u001b[39m\u001b[38;5;124m\"\u001b[39m)\n",
      "File \u001b[0;32m~/.local/lib/python3.10/site-packages/autograd/core.py:10\u001b[0m, in \u001b[0;36mmake_vjp\u001b[0;34m(fun, x)\u001b[0m\n\u001b[1;32m      8\u001b[0m \u001b[38;5;28;01mdef\u001b[39;00m\u001b[38;5;250m \u001b[39m\u001b[38;5;21mmake_vjp\u001b[39m(fun, x):\n\u001b[1;32m      9\u001b[0m     start_node \u001b[38;5;241m=\u001b[39m VJPNode\u001b[38;5;241m.\u001b[39mnew_root()\n\u001b[0;32m---> 10\u001b[0m     end_value, end_node \u001b[38;5;241m=\u001b[39m  \u001b[43mtrace\u001b[49m\u001b[43m(\u001b[49m\u001b[43mstart_node\u001b[49m\u001b[43m,\u001b[49m\u001b[43m \u001b[49m\u001b[43mfun\u001b[49m\u001b[43m,\u001b[49m\u001b[43m \u001b[49m\u001b[43mx\u001b[49m\u001b[43m)\u001b[49m\n\u001b[1;32m     11\u001b[0m     \u001b[38;5;28;01mif\u001b[39;00m end_node \u001b[38;5;129;01mis\u001b[39;00m \u001b[38;5;28;01mNone\u001b[39;00m:\n\u001b[1;32m     12\u001b[0m         \u001b[38;5;28;01mdef\u001b[39;00m\u001b[38;5;250m \u001b[39m\u001b[38;5;21mvjp\u001b[39m(g): \u001b[38;5;28;01mreturn\u001b[39;00m vspace(x)\u001b[38;5;241m.\u001b[39mzeros()\n",
      "File \u001b[0;32m~/.local/lib/python3.10/site-packages/autograd/tracer.py:9\u001b[0m, in \u001b[0;36mtrace\u001b[0;34m(start_node, fun, x)\u001b[0m\n\u001b[1;32m      7\u001b[0m \u001b[38;5;28;01mdef\u001b[39;00m\u001b[38;5;250m \u001b[39m\u001b[38;5;21mtrace\u001b[39m(start_node, fun, x):\n\u001b[1;32m      8\u001b[0m     \u001b[38;5;28;01mwith\u001b[39;00m trace_stack\u001b[38;5;241m.\u001b[39mnew_trace() \u001b[38;5;28;01mas\u001b[39;00m t:\n\u001b[0;32m----> 9\u001b[0m         start_box \u001b[38;5;241m=\u001b[39m \u001b[43mnew_box\u001b[49m\u001b[43m(\u001b[49m\u001b[43mx\u001b[49m\u001b[43m,\u001b[49m\u001b[43m \u001b[49m\u001b[43mt\u001b[49m\u001b[43m,\u001b[49m\u001b[43m \u001b[49m\u001b[43mstart_node\u001b[49m\u001b[43m)\u001b[49m\n\u001b[1;32m     10\u001b[0m         end_box \u001b[38;5;241m=\u001b[39m fun(start_box)\n\u001b[1;32m     11\u001b[0m         \u001b[38;5;28;01mif\u001b[39;00m isbox(end_box) \u001b[38;5;129;01mand\u001b[39;00m end_box\u001b[38;5;241m.\u001b[39m_trace \u001b[38;5;241m==\u001b[39m start_box\u001b[38;5;241m.\u001b[39m_trace:\n",
      "File \u001b[0;32m~/.local/lib/python3.10/site-packages/autograd/tracer.py:120\u001b[0m, in \u001b[0;36mnew_box\u001b[0;34m(value, trace, node)\u001b[0m\n\u001b[1;32m    118\u001b[0m     \u001b[38;5;28;01mreturn\u001b[39;00m box_type_mappings[\u001b[38;5;28mtype\u001b[39m(value)](value, trace, node)\n\u001b[1;32m    119\u001b[0m \u001b[38;5;28;01mexcept\u001b[39;00m \u001b[38;5;167;01mKeyError\u001b[39;00m:\n\u001b[0;32m--> 120\u001b[0m     \u001b[38;5;28;01mraise\u001b[39;00m \u001b[38;5;167;01mTypeError\u001b[39;00m(\u001b[38;5;124m\"\u001b[39m\u001b[38;5;124mCan\u001b[39m\u001b[38;5;124m'\u001b[39m\u001b[38;5;124mt differentiate w.r.t. type \u001b[39m\u001b[38;5;132;01m{}\u001b[39;00m\u001b[38;5;124m\"\u001b[39m\u001b[38;5;241m.\u001b[39mformat(\u001b[38;5;28mtype\u001b[39m(value)))\n",
      "\u001b[0;31mTypeError\u001b[0m: Can't differentiate w.r.t. type <class 'int'>"
     ]
    }
   ],
   "source": [
    "# Griborii\n",
    "def hessian(func):\n",
    "    print(func(np.array([2, 3] )))\n",
    "    print(grad(grad(func))(3))\n",
    "    return 0\n",
    "\n",
    "\n",
    "print(hessian(lambda x: sum([x[i]**2 for i in range(len(x))]))(np.array([2, 2])))\n",
    "\n",
    "def levenberg_markvatd(f: Callable[[np.array], float], x_0, a_0, prec):\n",
    "    print('hello')\n",
    "    i_decide = True\n",
    "    x_old = x_0\n",
    "    x_new = x_0\n",
    "    a = a_0\n",
    "    while i_decide:\n",
    "        x_old = x_new\n",
    "        i_want_2 = True\n",
    "        while x_new >= x_old:\n",
    "            x_new = x_old + a * np.linalg.inv(hessian(x_old))\n",
    "\n",
    "\n",
    "\n"
   ]
  }
 ],
 "metadata": {
  "kernelspec": {
   "display_name": "Python 3",
   "language": "python",
   "name": "python3"
  },
  "language_info": {
   "codemirror_mode": {
    "name": "ipython",
    "version": 3
   },
   "file_extension": ".py",
   "mimetype": "text/x-python",
   "name": "python",
   "nbconvert_exporter": "python",
   "pygments_lexer": "ipython3",
   "version": "3.10.12"
  }
 },
 "nbformat": 4,
 "nbformat_minor": 5
}
