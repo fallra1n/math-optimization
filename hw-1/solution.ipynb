{
 "cells": [
  {
   "cell_type": "markdown",
   "metadata": {},
   "source": [
    "# Project1\n",
    "Новак Евгений <br>\n",
    "Орлов Григорий <br>\n",
    "Тожимухаммедов Асадбек <br>\n",
    "Вариант: 1\n",
    "\n",
    "----"
   ]
  },
  {
   "cell_type": "markdown",
   "metadata": {},
   "source": [
    "### Условие: <br>\n",
    "* Реализовать метод парабол, метод золотого сечения. <br>\n",
    "* Тестовые функции:\n",
    "$$\n",
    "\t\\begin{align*}\n",
    "    1. & \\quad f(x) = x^2, & x \\in [-1; 10]; \\\\\n",
    "    2. & \\quad f(x) = x^{10}, & x \\in [-1; 1]; \\\\\n",
    "    3. & \\quad f(x) = x\\exp{x}, & x \\in [-2; 0]; \\\\\n",
    "    4. & \\quad f(x) = -x\\exp{-x}, & x \\in [-2; 6]; \\\\\n",
    "    5. & \\quad f(x) = \\frac{x^4}{\\ln{x}}, & x \\in [1.1; 1.5]; \\\\\n",
    "    6. & \\quad f(x) = \\frac{x^3}{3} - x\\ln{x} - 2\\sin{x}, & x \\in [0.1; 2];\n",
    "\t\\end{align*}\n",
    "$$\n",
    "\n",
    "* Что требуется\n",
    "1. Практически расчитать скорость сходимости методов для точности в пределах от $ 10^{−6} $ до $ 10^{−5} $ с шагом $ 10^{−7} $. Построить графики зависимост (1) времени расчета от точности, (2) числа итераций от точности, (3) количество вызовов функции за все время расчета от точности.\n",
    "2. Для точности $ 5 · 10^{−6} $ построить график сходимости методов: точка от номера итерации.\n",
    "3. Для точности $ 5·10^{−6} $ построить график числа вызовов функции: число вызовов от номера итерации.\n",
    "Рассматривать точность по точке, а не по функции"
   ]
  },
  {
   "cell_type": "markdown",
   "metadata": {},
   "source": [
    "### Решение:"
   ]
  },
  {
   "cell_type": "code",
   "execution_count": 25,
   "metadata": {},
   "outputs": [
    {
     "name": "stdout",
     "output_type": "stream",
     "text": [
      "Запуск на тестовых функциях для метода золотого сечения:\n",
      "1: -1.061870609387482e-07\n",
      "2: -4.834440546453919e-18\n",
      "3: -1.0\n",
      "4: 1.0000010450276808\n",
      "5: 1.2840257751681103\n",
      "6: 0.8481435660278989\n",
      "Запуск на тестовых функциях для метода парабол:\n",
      "1: 0.0\n",
      "2: 0.0\n",
      "3: -1.0\n",
      "4: 2.0\n",
      "5: 1.3\n",
      "6: 0.6780705789826835\n"
     ]
    }
   ],
   "source": [
    "import numpy as np\n",
    "from typing import Callable\n",
    "\n",
    "def golden_section_search(f: Callable[[float], float], a: float, b: float, eps: float) -> float:\n",
    "\tphi = (1 + np.sqrt(5)) / 2\n",
    "\tx1 = a + (b - a) / (phi + 1)\n",
    "\tx2 = b - (b - a) / (phi + 1)\n",
    "\tf1 = f(x1)\n",
    "\tf2 = f(x2)\n",
    "\n",
    "\twhile abs(b - a) > eps:\n",
    "\t\tif f1 < f2:\n",
    "\t\t\tb = x2\n",
    "\t\t\tx2, f2 = x1, f1\n",
    "\t\t\tx1 = a + (b - a) / (phi + 1)\n",
    "\t\t\tf1 = f(x1)\n",
    "\t\telse:\n",
    "\t\t\ta = x1\n",
    "\t\t\tx1, f1 = x2, f2\n",
    "\t\t\tx2 = b - (b - a) / (phi + 1)\n",
    "\t\t\tf2 = f(x2)\n",
    "\t\n",
    "\treturn (a + b) / 2\n",
    "\n",
    "\n",
    "def parabolas_search(f: Callable[[float], float], a: float, b: float, eps: float) -> float:\n",
    "\tx1, x2, x3 = a, (a + b) / 2, b\n",
    "\tf1, f2, f3 = f(x1), f(x2), f(x3)\n",
    "\tx2_old = b\n",
    "\n",
    "\twhile abs(x2 - x2_old) > eps:\n",
    "\t\tu = x2 - (((x2 - x1)**2) * (f2 - f3) - ((x2 - x3)**2) * (f2 - f1)) / (2 * ((x2 - x1) * (f2 - f3) - (x2 - x3) * (f2 - f1)))\n",
    "\t\tfu = f(u)\n",
    "\n",
    "\t\tx2_old = x2\n",
    "\t\tif (fu > f2) and (u > x2):\n",
    "\t\t\tx1, x2, x3 = x1, x2, u\n",
    "\t\telif (fu > f2) and (u < x2):\n",
    "\t\t\tx1, x2, x3 = u, x2, x3\n",
    "\t\telif (fu < f2) and (u > x2):\n",
    "\t\t\tx1, x2, x3 = x2, u, x3\n",
    "\t\telif (fu < f2) and (u < x2):\n",
    "\t\t\tx1, x2, x3 = x1, u, x2\n",
    "\t\n",
    "\treturn x2\n",
    "\t\n",
    "\n",
    "\n",
    "accuracy = 5 * 10**(-6)\n",
    "\n",
    "print(\"Запуск на тестовых функциях для метода золотого сечения:\")\n",
    "print(\"1:\", golden_section_search(lambda x: x ** 2, -1, 10, accuracy))\n",
    "print(\"2:\", golden_section_search(lambda x: x ** 10, -1, 1, accuracy))\n",
    "print(\"3:\", golden_section_search(lambda x: x * np.exp(x), -2, 0, accuracy))\n",
    "print(\"4:\", golden_section_search(lambda x: -x * np.exp(-x), -2, 6, accuracy))\n",
    "print(\"5:\", golden_section_search(lambda x: x ** 4 /np.log(x), 1.1, 1.5, accuracy))\n",
    "print(\"6:\", golden_section_search(lambda x: x ** 3 - x * np.log(x) - 2 * np.sin(x), 0.1, 2, accuracy))\n",
    "\n",
    "print(\"Запуск на тестовых функциях для метода парабол:\")\n",
    "print(\"1:\", parabolas_search(lambda x: x ** 2, -1, 10, accuracy))\n",
    "print(\"2:\", parabolas_search(lambda x: x ** 10, -1, 1, accuracy))\n",
    "print(\"3:\", parabolas_search(lambda x: x * np.exp(x), -2, 0, accuracy))\n",
    "print(\"4:\", parabolas_search(lambda x: -x * np.exp(-x), -2, 6, accuracy))\n",
    "print(\"5:\", parabolas_search(lambda x: x ** 4 /np.log(x), 1.1, 1.5, accuracy))\n",
    "print(\"6:\", parabolas_search(lambda x: x ** 3 - x * np.log(x) - 2 * np.sin(x), 0.1, 2, accuracy))\n",
    "\n",
    "# left_border = 10**(-6)\n",
    "# right_border = 10**(-5)\n",
    "# step_len = 10**(-7)\n"
   ]
  }
 ],
 "metadata": {
  "kernelspec": {
   "display_name": ".venv",
   "language": "python",
   "name": "python3"
  },
  "language_info": {
   "codemirror_mode": {
    "name": "ipython",
    "version": 3
   },
   "file_extension": ".py",
   "mimetype": "text/x-python",
   "name": "python",
   "nbconvert_exporter": "python",
   "pygments_lexer": "ipython3",
   "version": "3.13.2"
  }
 },
 "nbformat": 4,
 "nbformat_minor": 2
}
